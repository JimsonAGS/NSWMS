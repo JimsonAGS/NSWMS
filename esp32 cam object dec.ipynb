{
 "cells": [
  {
   "cell_type": "code",
   "execution_count": 1,
   "id": "fe3e7314",
   "metadata": {},
   "outputs": [
    {
     "name": "stdout",
     "output_type": "stream",
     "text": [
      "started\n"
     ]
    }
   ],
   "source": [
    "import cv2\n",
    "import matplotlib.pyplot as plt\n",
    "import cvlib as cv\n",
    "import urllib.request\n",
    "import numpy as np\n",
    "from cvlib.object_detection import draw_bbox\n",
    "import concurrent.futures\n",
    " \n",
    "url='http://192.168.10.162/cam-hi.jpg'\n",
    "im=None\n",
    " \n",
    "def run1():\n",
    "    cv2.namedWindow(\"live transmission\", cv2.WINDOW_AUTOSIZE)\n",
    "    while True:\n",
    "        img_resp=urllib.request.urlopen(url)\n",
    "        imgnp=np.array(bytearray(img_resp.read()),dtype=np.uint8)\n",
    "        im = cv2.imdecode(imgnp,-1)\n",
    " \n",
    "        cv2.imshow('live transmission',im)\n",
    "        key=cv2.waitKey(5)\n",
    "        if key==ord('q'):\n",
    "            break\n",
    "            \n",
    "    cv2.destroyAllWindows()\n",
    "        \n",
    "def run2():\n",
    "    cv2.namedWindow(\"detection\", cv2.WINDOW_AUTOSIZE)\n",
    "    while True:\n",
    "        img_resp=urllib.request.urlopen(url)\n",
    "        imgnp=np.array(bytearray(img_resp.read()),dtype=np.uint8)\n",
    "        im = cv2.imdecode(imgnp,-1)\n",
    " \n",
    "        bbox, label, conf = cv.detect_common_objects(im)\n",
    "        im = draw_bbox(im, bbox, label, conf)\n",
    " \n",
    "        cv2.imshow('detection',im)\n",
    "        key=cv2.waitKey(5)\n",
    "        if key==ord('q'):\n",
    "            break\n",
    "            \n",
    "    cv2.destroyAllWindows()\n",
    " \n",
    " \n",
    " \n",
    "if __name__ == '__main__':\n",
    "    print(\"started\")\n",
    "    with concurrent.futures.ProcessPoolExecutor() as executer:\n",
    "            f1= executer.submit(run1)\n",
    "            f2= executer.submit(run2)"
   ]
  },
  {
   "cell_type": "code",
   "execution_count": null,
   "id": "bc44a489",
   "metadata": {},
   "outputs": [],
   "source": []
  }
 ],
 "metadata": {
  "kernelspec": {
   "display_name": "Python 3 (ipykernel)",
   "language": "python",
   "name": "python3"
  },
  "language_info": {
   "codemirror_mode": {
    "name": "ipython",
    "version": 3
   },
   "file_extension": ".py",
   "mimetype": "text/x-python",
   "name": "python",
   "nbconvert_exporter": "python",
   "pygments_lexer": "ipython3",
   "version": "3.9.7"
  }
 },
 "nbformat": 4,
 "nbformat_minor": 5
}
